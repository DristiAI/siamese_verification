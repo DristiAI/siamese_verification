{
 "cells": [
  {
   "cell_type": "code",
   "execution_count": null,
   "metadata": {},
   "outputs": [],
   "source": [
    "from keras.models import load_model"
   ]
  },
  {
   "cell_type": "code",
   "execution_count": null,
   "metadata": {},
   "outputs": [],
   "source": [
    "from model import *\n",
    "from data import *\n",
    "from keras.layers import Lambda"
   ]
  },
  {
   "cell_type": "code",
   "execution_count": null,
   "metadata": {},
   "outputs": [],
   "source": [
    "\n",
    "IMAGE_IN_A_CLASS =10\n",
    "INPUT_SHAPE= (56,46,1) #image size\n",
    "\n",
    "train_x,train_y = make_dataset(TRAIN_PATH)\n",
    "val_x,val_y =  make_dataset(VALIDATION)\n",
    "test_x,test_y = make_dataset(TEST_PATH)\n",
    "\n",
    "def preprocess_dataset(*data_matrices):\n",
    "    \n",
    "    \"\"\"\n",
    "    This function is only for the dataset during training process .\n",
    "    It assumes the step of resizing the images to 56 px X 46 px has been\n",
    "    done already\n",
    "    \n",
    "    \"\"\"\n",
    "    output=[]\n",
    "    for data_matrix in data_matrices:\n",
    "        data_matrix =np.array(data_matrix)/255\n",
    "        output.append(data_matrix)\n",
    "    return output\n",
    "\n",
    "train,val,test = map(np.array ,preprocess_dataset(train_x,val_x,test_x))\n",
    "train_y,val_y,test_y = map(np.array,[train_y,val_y,test_y])\n",
    "\n",
    "T_CLASSES= set(train_y)\n",
    "V_CLASSES = set(val_y)\n",
    "\n",
    "\n",
    "train_indices = [np.where(train_y==i)[0] for i in T_CLASSES]\n",
    "val_indices = [np.where(val_y==i)[0] for i in V_CLASSES]\n",
    "\n",
    "\"\"\"\n",
    "\n",
    "CREATING THE DATA TO FEED TO THE MODEL\n",
    "T_INPUT[i] = [image1,image2]\n",
    "T_LABELS = [0] WHEN image1 and image2 are same person/\n",
    "           [1] WHEN image1 and image2 are different person\n",
    "\"\"\"\n",
    "\n",
    "T_INPUT,T_LABELS = map(np.array,create_input(train,train_indices))\n",
    "V_INPUT,V_LABELS = map(np.array,create_input(train,train_indices))\n",
    "\n",
    "INPUT1 = Input(shape=INPUT_SHAPE)\n",
    "INPUT2 = Input(shape=INPUT_SHAPE)\n",
    "\n",
    "model_ = model(input_shape)\n",
    "\n",
    "SIAMESE_NET1_out = model_(INPUT1)\n",
    "SIAMESE_NET2_out = model_(INPUT2)\n",
    "\n",
    "#output is the euclidean distance of the two inputs\n",
    "\n",
    "output = Lambda(euclidean_distance)([SIAMESE_NET1_out,SIAMESE_NET2_out])\n",
    "MODEL = Model(inputs= [INPUT1,INPUT2], outputs= [output])\n",
    "MODEL.compile(loss=contrastive_loss, optimizer='adamax',metrics=['accuracy'])"
   ]
  },
  {
   "cell_type": "code",
   "execution_count": null,
   "metadata": {},
   "outputs": [],
   "source": [
    "Mdel = MODEL.load_weights('model_fac.hdf5')"
   ]
  },
  {
   "cell_type": "code",
   "execution_count": null,
   "metadata": {},
   "outputs": [],
   "source": [
    "import cv2"
   ]
  },
  {
   "cell_type": "code",
   "execution_count": 20,
   "metadata": {},
   "outputs": [],
   "source": [
    "img = cv2.resize(cv2.imread('face1.jpg',0)/255,(56,46)).reshape(1,56,46,1)"
   ]
  },
  {
   "cell_type": "code",
   "execution_count": 21,
   "metadata": {},
   "outputs": [],
   "source": [
    "img2 = cv2.resize(cv2.imread(os.path.join('face2.jpg'),0)/255,(56,46)).reshape(1,56,46,1)"
   ]
  },
  {
   "cell_type": "code",
   "execution_count": 22,
   "metadata": {},
   "outputs": [
    {
     "data": {
      "text/plain": [
       "array([[0.07983803]], dtype=float32)"
      ]
     },
     "execution_count": 22,
     "metadata": {},
     "output_type": "execute_result"
    }
   ],
   "source": [
    "MODEL.predict([img,img2])"
   ]
  },
  {
   "cell_type": "code",
   "execution_count": null,
   "metadata": {},
   "outputs": [],
   "source": []
  }
 ],
 "metadata": {
  "kernelspec": {
   "display_name": "Python 3",
   "language": "python",
   "name": "python3"
  },
  "language_info": {
   "codemirror_mode": {
    "name": "ipython",
    "version": 3
   },
   "file_extension": ".py",
   "mimetype": "text/x-python",
   "name": "python",
   "nbconvert_exporter": "python",
   "pygments_lexer": "ipython3",
   "version": "3.6.3"
  }
 },
 "nbformat": 4,
 "nbformat_minor": 2
}
