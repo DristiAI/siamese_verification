{
 "cells": [
  {
   "cell_type": "code",
   "execution_count": 1,
   "metadata": {},
   "outputs": [
    {
     "name": "stderr",
     "output_type": "stream",
     "text": [
      "Using TensorFlow backend.\n"
     ]
    }
   ],
   "source": [
    "import keras\n",
    "import numpy as np\n",
    "import os\n",
    "import random\n",
    "from sklearn.model_selection import train_test_split\n",
    "import shutil\n",
    "import glob\n",
    "from keras.models import Model\n",
    "from keras.layers import Input,Conv2D, MaxPooling2D, BatchNormalization,Flatten,Dense"
   ]
  },
  {
   "cell_type": "code",
   "execution_count": 2,
   "metadata": {},
   "outputs": [],
   "source": [
    "DATA_PATH = './att_faces'\n",
    "TRAIN_PATH = './train'\n",
    "VALIDATION = './val'\n",
    "TEST_PATH = './test'"
   ]
  },
  {
   "cell_type": "code",
   "execution_count": 3,
   "metadata": {},
   "outputs": [],
   "source": [
    "def create_paths(*paths):\n",
    "    for i in paths:\n",
    "        if os.path.exists(i): continue\n",
    "        os.makedirs(i)\n",
    "    "
   ]
  },
  {
   "cell_type": "code",
   "execution_count": 4,
   "metadata": {},
   "outputs": [],
   "source": [
    "files=os.listdir(DATA_PATH)"
   ]
  },
  {
   "cell_type": "code",
   "execution_count": 5,
   "metadata": {},
   "outputs": [],
   "source": [
    "folders= [i for i in files if i.startswith('s')]\n",
    "num_classes_original = len(folders)\n",
    "training_sampling_ratio = 0.8 \n",
    "num_train_folders = int(0.8 *num_classes_original) \n",
    "train_folders = np.random.choice(folders,num_train_folders,replace=False).tolist()\n",
    "remaining_folders= np.setdiff1d(folders,train_folders)\n",
    "validation_folders = [remaining_folders[i] for i in range(4)]\n",
    "test_folders= np.setdiff1d(remaining_folders,validation_folders)"
   ]
  },
  {
   "cell_type": "code",
   "execution_count": 6,
   "metadata": {},
   "outputs": [
    {
     "data": {
      "text/plain": [
       "4"
      ]
     },
     "execution_count": 6,
     "metadata": {},
     "output_type": "execute_result"
    }
   ],
   "source": [
    "len(test_folders)"
   ]
  },
  {
   "cell_type": "code",
   "execution_count": 7,
   "metadata": {},
   "outputs": [
    {
     "data": {
      "text/plain": [
       "32"
      ]
     },
     "execution_count": 7,
     "metadata": {},
     "output_type": "execute_result"
    }
   ],
   "source": [
    "len(train_folders)"
   ]
  },
  {
   "cell_type": "code",
   "execution_count": 8,
   "metadata": {},
   "outputs": [
    {
     "name": "stdout",
     "output_type": "stream",
     "text": [
      "['s1', 's33', 's27', 's10', 's6', 's38', 's2', 's29', 's19', 's4', 's9', 's23', 's15', 's39', 's21', 's7', 's36', 's17', 's31', 's12', 's37', 's16', 's3', 's34', 's5', 's24', 's26', 's25', 's13', 's8', 's32', 's20']\n"
     ]
    }
   ],
   "source": [
    "print(train_folders)"
   ]
  },
  {
   "cell_type": "code",
   "execution_count": 10,
   "metadata": {},
   "outputs": [
    {
     "data": {
      "text/plain": [
       "['s11', 's14', 's18', 's22']"
      ]
     },
     "execution_count": 10,
     "metadata": {},
     "output_type": "execute_result"
    }
   ],
   "source": [
    "validation_folders"
   ]
  },
  {
   "cell_type": "code",
   "execution_count": 11,
   "metadata": {},
   "outputs": [
    {
     "data": {
      "text/plain": [
       "array(['s28', 's30', 's35', 's40'],\n",
       "      dtype='<U3')"
      ]
     },
     "execution_count": 11,
     "metadata": {},
     "output_type": "execute_result"
    }
   ],
   "source": [
    "test_folders"
   ]
  },
  {
   "cell_type": "markdown",
   "metadata": {},
   "source": [
    "## COPY FILES TO RESPECTIVE DIRECTORIES"
   ]
  },
  {
   "cell_type": "code",
   "execution_count": 16,
   "metadata": {},
   "outputs": [],
   "source": [
    "def copy_files(folders,path):\n",
    "    for folder in folders:\n",
    "        \n",
    "        dest=path+'/'+str(folder)\n",
    "        src= os.path.join(DATA_PATH,folder)\n",
    "        os.makedirs(dest)\n",
    "        for i in os.listdir(src):\n",
    "            shutil.copy(src+'/'+str(i),dest)\n",
    "\n",
    "#UNCOMMENT BELOW LINES ON FIRST RUN ONLY\n",
    "copy_files(train_folders,TRAIN_PATH)\n",
    "copy_files(validation_folders,VALIDATION) #don't change this order\n",
    "copy_files(test_folders,TEST_PATH)\n",
    "\n"
   ]
  },
  {
   "cell_type": "code",
   "execution_count": 17,
   "metadata": {},
   "outputs": [
    {
     "name": "stdout",
     "output_type": "stream",
     "text": [
      " att_faces  'att_faces (copy)'\t data.ipynb   model.png   test\t train\t val\r\n"
     ]
    }
   ],
   "source": [
    "!ls"
   ]
  },
  {
   "cell_type": "code",
   "execution_count": 14,
   "metadata": {},
   "outputs": [],
   "source": [
    "from keras.preprocessing.image import ImageDataGenerator\n",
    "import cv2"
   ]
  },
  {
   "cell_type": "code",
   "execution_count": 20,
   "metadata": {},
   "outputs": [],
   "source": [
    "NUM_CLASSES= len(train_folders)"
   ]
  },
  {
   "cell_type": "code",
   "execution_count": 119,
   "metadata": {},
   "outputs": [],
   "source": [
    "def make_dataset(path):\n",
    "    folders= os.listdir(path)\n",
    "    y=[]\n",
    "    x=[]\n",
    "    for folder in folders:\n",
    "        \n",
    "        files=os.listdir(os.path.join(path,folder))\n",
    "        \n",
    "        for file in files:\n",
    "            #print(os.path.join(path,folder,file))\n",
    "            y+=[folder]\n",
    "            \n",
    "            \"\"\"\n",
    "            Before adding to the data \n",
    "            * read the image\n",
    "            * resize the image\n",
    "            * make the image 3d \n",
    "            \n",
    "            \"\"\"\n",
    "            x+= [cv2.resize(cv2.imread(os.path.join(path,folder,file),0)/255,(56,46)).reshape(56,46,1)]\n",
    "            \n",
    "    print(len(x))\n",
    "    return x,y\n",
    "            "
   ]
  },
  {
   "cell_type": "code",
   "execution_count": 120,
   "metadata": {},
   "outputs": [
    {
     "name": "stdout",
     "output_type": "stream",
     "text": [
      "320\n",
      "40\n",
      "40\n"
     ]
    }
   ],
   "source": [
    "train_x,train_y = make_dataset(TRAIN_PATH)\n",
    "val_x,val_y = make_dataset(VALIDATION)\n",
    "test_x,test_y = make_dataset(TEST_PATH)"
   ]
  },
  {
   "cell_type": "markdown",
   "metadata": {},
   "source": [
    "## SAMPLES DISTRIBUTION "
   ]
  },
  {
   "cell_type": "code",
   "execution_count": 24,
   "metadata": {},
   "outputs": [
    {
     "name": "stdout",
     "output_type": "stream",
     "text": [
      "SAMPLES IN \n",
      "TRAINING SET : 320\n",
      "TEST SET : 40\n",
      "VALIDATION SET : 40\n"
     ]
    }
   ],
   "source": [
    "def printer(*args):\n",
    "    x=[]\n",
    "    for i in args:\n",
    "        x+=[len(i)]\n",
    "    return x\n",
    "        \n",
    "print(\"SAMPLES IN \\nTRAINING SET : {0}\\nTEST SET : {1}\\nVALIDATION SET : {2}\".format(*printer(train_x,test_x,val_x)))"
   ]
  },
  {
   "cell_type": "code",
   "execution_count": 31,
   "metadata": {},
   "outputs": [],
   "source": [
    "def model(input_shape):\n",
    "    \n",
    "    \"\"\"\n",
    "    function abstraction for network1 and network2\n",
    "    \n",
    "    \"\"\"\n",
    "    inp= Input(shape=input_shape)\n",
    "    #Convolution layer 1\n",
    "    x= Conv2D(16,(3,3),activation='relu',padding='same')(inp)\n",
    "    x= BatchNormalization()(x)\n",
    "    x= MaxPooling2D()(x)\n",
    "    #Convolution layer 2\n",
    "    x= Conv2D(32,(3,3),activation='selu',padding='same')(x)\n",
    "    x= BatchNormalization()(x)\n",
    "    x= MaxPooling2D()(x)\n",
    "    #Convolution layer 3\n",
    "    x= Conv2D(64,(3,3),activation='selu',padding='same')(x)\n",
    "    x= BatchNormalization()(x)\n",
    "    #Convolution layer 4\n",
    "    x= Conv2D(128,(3,3),activation='selu',padding='same')(x)\n",
    "    x= MaxPooling2D()(x) \n",
    "    x= Flatten()(x)\n",
    "    #Embeddings we will finally be using \n",
    "    x= Dense(128)(x)\n",
    "    \n",
    "    model= Model(inputs=inp,outputs=x)\n",
    "    \n",
    "    return model"
   ]
  },
  {
   "cell_type": "code",
   "execution_count": 117,
   "metadata": {},
   "outputs": [],
   "source": [
    "input_shape=(56,46,1)\n",
    "#DEFINING INPUT LAYER FOR NETWORK1\n",
    "INPUT_1= Input(shape=input_shape)\n",
    "#DEFINING INPUT LAYER FOR NETWORK2\n",
    "INPUT_2=Input(shape=input_shape)"
   ]
  },
  {
   "cell_type": "code",
   "execution_count": 33,
   "metadata": {},
   "outputs": [],
   "source": [
    "MODEL= model(input_shape)\n",
    "\n",
    "SIAMESE_NET1_y= MODEL(INPUT_1)\n",
    "\n",
    "SIAMESE_NET2_y=MODEL(INPUT_2)\n",
    "\n"
   ]
  },
  {
   "cell_type": "code",
   "execution_count": null,
   "metadata": {},
   "outputs": [],
   "source": []
  },
  {
   "cell_type": "code",
   "execution_count": 116,
   "metadata": {},
   "outputs": [],
   "source": [
    "def contrastive_loss(y_1,y_2,margin=1):\n",
    "    \"\"\"\n",
    "    Taken: siamian mnist example in keras \n",
    "    \n",
    "    \"\"\"\n",
    "\n",
    "    return K.mean((1-y_true)*K.square(y_pred)+(y_true)*K.square(K.maximum(margin-y_pred,0)))"
   ]
  },
  {
   "cell_type": "code",
   "execution_count": 35,
   "metadata": {},
   "outputs": [],
   "source": [
    "def euclidean_distance(y1,y2):\n",
    "    \n",
    "    return K.sqrt(K.sum(K.square(y1-y2),axis=1,keepdims=True))\n",
    "    "
   ]
  },
  {
   "cell_type": "markdown",
   "metadata": {},
   "source": [
    "## A NOTE ON HOW THE LABELS AND THE CONTRASTIVE OUTPUT WORKS\n",
    "\n",
    "<pre>\n",
    "y_pred : the distance output , if it is less than 0.5 then the label assigned is 0\n",
    "y_true : 0 for both are same faces\n",
    "         1 for both are different faces </pre>"
   ]
  },
  {
   "cell_type": "code",
   "execution_count": 38,
   "metadata": {},
   "outputs": [],
   "source": [
    "def preprocess_dataset(*data_matrices):\n",
    "    \n",
    "    \"\"\"\n",
    "    This function is only for the dataset during training process .\n",
    "    It assumes the step of resizing the images to 56 px X 46 px has been\n",
    "    done already\n",
    "    \n",
    "    \"\"\"\n",
    "    output=[]\n",
    "    for data_matrix in data_matrices:\n",
    "        data_matrix =np.array(data_matrix)/255\n",
    "        output.append(data_matrix)\n",
    "    return output\n",
    "    "
   ]
  },
  {
   "cell_type": "code",
   "execution_count": 95,
   "metadata": {},
   "outputs": [],
   "source": [
    "train, val , test = map(np.array,preprocess_dataset(train_x,val_x,test_x))\n",
    "train_y, val_y,test_y= map(np.array, [train_y,val_y,test_y])"
   ]
  },
  {
   "cell_type": "code",
   "execution_count": 40,
   "metadata": {},
   "outputs": [
    {
     "data": {
      "text/plain": [
       "[320, 40, 40]"
      ]
     },
     "execution_count": 40,
     "metadata": {},
     "output_type": "execute_result"
    }
   ],
   "source": [
    "printer(train,val,test)"
   ]
  },
  {
   "cell_type": "code",
   "execution_count": 41,
   "metadata": {},
   "outputs": [],
   "source": [
    "def preprocess_image(img):\n",
    "    \"\"\"\n",
    "    resize to 56px X 46px\n",
    "    reshape to make 3 dimensional\n",
    "    down scale each pixel by 255\n",
    "    \"\"\"\n",
    "    return img.resize(56,46).reshape(56,46,1)/255"
   ]
  },
  {
   "cell_type": "code",
   "execution_count": 42,
   "metadata": {},
   "outputs": [],
   "source": [
    "from keras.utils import plot_model\n",
    "plot_model(MODEL, to_file='model.png')\n"
   ]
  },
  {
   "cell_type": "code",
   "execution_count": 43,
   "metadata": {},
   "outputs": [
    {
     "data": {
      "image/png": "[encoded data removed]",
      "text/plain": [
       "<IPython.core.display.Image object>"
      ]
     },
     "execution_count": 43,
     "metadata": {},
     "output_type": "execute_result"
    }
   ],
   "source": [
    "from IPython.display import Image\n",
    "Image('./model.png')\n"
   ]
  },
  {
   "cell_type": "code",
   "execution_count": 44,
   "metadata": {},
   "outputs": [],
   "source": [
    "NUM_CLASSES=32 #train\n",
    "image_in_each_class= 10 #fixed "
   ]
  },
  {
   "cell_type": "code",
   "execution_count": 118,
   "metadata": {},
   "outputs": [],
   "source": [
    "def create_input(X,indices):\n",
    "    \"\"\"\n",
    "    This method is used only for creating pairs for training and validation\n",
    "    \n",
    "    \n",
    "    returns: x = a list with each element as [img1,img2] \n",
    "             y = a list of labels 1s and 0s\n",
    "             \n",
    "        \n",
    "               \n",
    "    \"\"\"\n",
    "    x=[]\n",
    "    y=[]\n",
    "    \n",
    "    for i in range(NUM_CLASSES):\n",
    "        for j in range(9):\n",
    "            i1,j1 = indices[i][j],indices[i][j+1]\n",
    "            #print(i1,j1)\n",
    "            #print(X.shape)\n",
    "            img1= X[i1]\n",
    "            \n",
    "            img2= X[j1]\n",
    "            #print(img1)\n",
    "            x+=[img1,img2]\n",
    "            y+=[0]\n",
    "            inc=random.randrange(1,NUM_CLASSES)\n",
    "            dn =(i+inc)%NUM_CLASSES\n",
    "            i1,j2=indices[i][j],indices[dn][j]\n",
    "            x+=[X[i1],X[j2]]\n",
    "            y+=[1]\n",
    "            \n",
    "    XY = list(zip(x,y))\n",
    "    random.shuffle(XY)\n",
    "    x,y = zip(*XY)\n",
    "    \n",
    "    return x,y\n",
    "    "
   ]
  },
  {
   "cell_type": "code",
   "execution_count": 113,
   "metadata": {},
   "outputs": [],
   "source": [
    "train_indices = [np.where(train_y==i)[0] for i in T_CLASSES]\n",
    "#print(train_indices)\n",
    "T_INPUT,T_LABELS = map(np.array,create_input(train,train_indices))"
   ]
  },
  {
   "cell_type": "code",
   "execution_count": 115,
   "metadata": {},
   "outputs": [
    {
     "data": {
      "text/plain": [
       "(array([0, 1, 1, 0]), (576, 56, 46, 1))"
      ]
     },
     "execution_count": 115,
     "metadata": {},
     "output_type": "execute_result"
    }
   ],
   "source": [
    "T_LABELS[:4], T_INPUT.shape"
   ]
  },
  {
   "cell_type": "code",
   "execution_count": null,
   "metadata": {},
   "outputs": [],
   "source": []
  },
  {
   "cell_type": "code",
   "execution_count": null,
   "metadata": {},
   "outputs": [],
   "source": []
  }
 ],
 "metadata": {
  "kernelspec": {
   "display_name": "Python 3",
   "language": "python",
   "name": "python3"
  },
  "language_info": {
   "codemirror_mode": {
    "name": "ipython",
    "version": 3
   },
   "file_extension": ".py",
   "mimetype": "text/x-python",
   "name": "python",
   "nbconvert_exporter": "python",
   "pygments_lexer": "ipython3",
   "version": "3.6.3"
  }
 },
 "nbformat": 4,
 "nbformat_minor": 2
}
